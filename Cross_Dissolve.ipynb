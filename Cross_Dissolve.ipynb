{
 "cells": [
  {
   "cell_type": "code",
   "execution_count": 3,
   "id": "73a67b18",
   "metadata": {},
   "outputs": [
    {
     "name": "stdout",
     "output_type": "stream",
     "text": [
      "Enter the number of frames : 200\n"
     ]
    }
   ],
   "source": [
    "import cv2\n",
    "import numpy as np\n",
    "\n",
    "def cross_dissolve_transition(image_A, image_B, num_frames):\n",
    "    \n",
    "    # Check if images are loaded properly\n",
    "    if image_A is None or image_B is None:\n",
    "        print(\"One or both images could not be loaded.\")\n",
    "        return\n",
    "\n",
    "    # Get the maximum height and width among the images\n",
    "    height = min(image_A.shape[0], image_B.shape[0])\n",
    "    width = min(image_A.shape[1], image_B.shape[1])\n",
    "\n",
    "    # Resize images to the maximum dimensions\n",
    "    image_A = cv2.resize(image_A, (width, height))\n",
    "    image_B = cv2.resize(image_B, (width, height))\n",
    "\n",
    "    # Perform cross-dissolve transition over multiple frames\n",
    "    for i in range(num_frames + 1):\n",
    "        alpha = i / num_frames\n",
    "        beta = 1.0 - alpha\n",
    "\n",
    "        # Merge images using cv2.addWeighted()\n",
    "        transition = cv2.addWeighted(image_A, alpha, image_B, beta, 0.0)\n",
    "\n",
    "        # Display the transition\n",
    "        cv2.imshow('Cross Dissolve Transition', transition)\n",
    "        cv2.waitKey(30)  # Adjust the delay between frames\n",
    "\n",
    "    cv2.destroyAllWindows()\n",
    "\n",
    "\n",
    "# Load two images\n",
    "image_A = cv2.imread(r'E:\\marg.jpg')\n",
    "image_B = cv2.imread(r'E:\\flower.jpg')\n",
    "    \n",
    "# take the number of frames from the user\n",
    "num_frames = int(input(\"Enter the number of frames : \"))\n",
    "# Call the function with image paths and the number of frames\n",
    "cross_dissolve_transition(image_A, image_B, num_frames)\n"
   ]
  },
  {
   "cell_type": "code",
   "execution_count": null,
   "id": "c2141d06",
   "metadata": {},
   "outputs": [],
   "source": []
  }
 ],
 "metadata": {
  "kernelspec": {
   "display_name": "Python 3 (ipykernel)",
   "language": "python",
   "name": "python3"
  },
  "language_info": {
   "codemirror_mode": {
    "name": "ipython",
    "version": 3
   },
   "file_extension": ".py",
   "mimetype": "text/x-python",
   "name": "python",
   "nbconvert_exporter": "python",
   "pygments_lexer": "ipython3",
   "version": "3.11.5"
  }
 },
 "nbformat": 4,
 "nbformat_minor": 5
}
