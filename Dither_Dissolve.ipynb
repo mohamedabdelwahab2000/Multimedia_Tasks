{
 "cells": [
  {
   "cell_type": "code",
   "execution_count": 5,
   "id": "195834d3",
   "metadata": {},
   "outputs": [
    {
     "name": "stdout",
     "output_type": "stream",
     "text": [
      "Enter the number of frames : 100\n"
     ]
    }
   ],
   "source": [
    "import cv2\n",
    "import numpy as np\n",
    "\n",
    "def dither_dissolve(image1, image2, num_frames):\n",
    "    if image1.shape != image2.shape:\n",
    "        print(\"Images should have the same dimensions.\")\n",
    "        return\n",
    "    height, width = image1.shape[:2]\n",
    "    dithered = np.zeros((height, width, 3))\n",
    "    \n",
    "    for i in range(num_frames):\n",
    "        alpha = i / num_frames\n",
    "        # Calculate the number of columns to replace based on alpha value\n",
    "        num_cols = int(image1.shape[1] * alpha)\n",
    "        for y in range(height):\n",
    "            for x in range(num_cols):\n",
    "                image1[y, x] = image2[y, x]\n",
    "        \n",
    "        cv2.imshow('Dither Dissolve', image1)\n",
    "        cv2.waitKey(30)\n",
    "    cv2.destroyAllWindows()\n",
    "    #return dithered\n",
    "\n",
    "# Replace 'image1.jpg' and 'image2.jpg' with your image file names\n",
    "image1 = cv2.imread(r'E:\\marg.jpg')\n",
    "image2 = cv2.imread(r'E:\\flower.jpg')\n",
    "\n",
    "# Ensure both images have the same dimensions\n",
    "image2 = cv2.resize(image2, (image1.shape[1], image1.shape[0]))\n",
    "\n",
    "num_frames = int(input(\"Enter the number of frames : \"))\n",
    "\n",
    "dithered_dissolve = dither_dissolve(image1, image2, num_frames)\n",
    "\n",
    "\n",
    "\n",
    "\n"
   ]
  },
  {
   "cell_type": "code",
   "execution_count": null,
   "id": "b1fb1347",
   "metadata": {},
   "outputs": [],
   "source": []
  },
  {
   "cell_type": "code",
   "execution_count": null,
   "id": "3297f186",
   "metadata": {},
   "outputs": [],
   "source": []
  }
 ],
 "metadata": {
  "kernelspec": {
   "display_name": "Python 3 (ipykernel)",
   "language": "python",
   "name": "python3"
  },
  "language_info": {
   "codemirror_mode": {
    "name": "ipython",
    "version": 3
   },
   "file_extension": ".py",
   "mimetype": "text/x-python",
   "name": "python",
   "nbconvert_exporter": "python",
   "pygments_lexer": "ipython3",
   "version": "3.11.5"
  }
 },
 "nbformat": 4,
 "nbformat_minor": 5
}
